{
 "cells": [
  {
   "cell_type": "code",
   "execution_count": 18,
   "metadata": {},
   "outputs": [],
   "source": [
    "def bucket_sort(input_list):\n",
    "    # Find maximum value in the list and use length of the list to determine which value in the list goes into which bucket \n",
    "    max_value = max(input_list)\n",
    "    size = max_value/len(input_list)\n",
    "\n",
    "    # Create n empty buckets where n is equal to the length of the input list\n",
    "    buckets_list= []\n",
    "    for x in range(len(input_list)):\n",
    "        buckets_list.append([]) \n",
    "\n",
    "    # Put list elements into different buckets based on the size\n",
    "    for i in range(len(input_list)):\n",
    "        j = int (input_list[i] / size)\n",
    "        if j != len (input_list):\n",
    "            buckets_list[j].append(input_list[i])\n",
    "        else:\n",
    "            buckets_list[len(input_list) - 1].append(input_list[i])\n",
    "\n",
    "    # Sort elements within the buckets using Insertion Sort\n",
    "    for z in range(len(input_list)):\n",
    "        insertion_sort(buckets_list[z])\n",
    "            \n",
    "    # Concatenate buckets with sorted elements into a single list\n",
    "    final_output = []\n",
    "    for x in range(len (input_list)):\n",
    "        final_output = final_output + buckets_list[x]\n",
    "    return final_output\n",
    "\n",
    "def insertion_sort(bucket):\n",
    "    for i in range (1, len (bucket)):\n",
    "        var = bucket[i]\n",
    "        j = i - 1\n",
    "        while (j >= 0 and var < bucket[j]):\n",
    "            bucket[j + 1] = bucket[j]\n",
    "            j = j - 1\n",
    "        bucket[j + 1] = var\n",
    "        \n",
    "def main():\n",
    "    input_list = [1.20, 0.22, 0.43, 0.36,0.39,0.27]\n",
    "    print('ORIGINAL LIST:')\n",
    "    print(input_list)\n",
    "    sorted_list = bucket_sort(input_list)\n",
    "    print('SORTED LIST:')\n",
    "    print(sorted_list)"
   ]
  },
  {
   "cell_type": "code",
   "execution_count": 19,
   "metadata": {},
   "outputs": [
    {
     "name": "stdout",
     "output_type": "stream",
     "text": [
      "ORIGINAL LIST:\n",
      "[1.2, 0.22, 0.43, 0.36, 0.39, 0.27]\n",
      "SORTED LIST:\n",
      "[0.22, 0.27, 0.36, 0.39, 0.43, 1.2]\n"
     ]
    }
   ],
   "source": [
    "main()"
   ]
  },
  {
   "cell_type": "code",
   "execution_count": null,
   "metadata": {},
   "outputs": [],
   "source": []
  }
 ],
 "metadata": {
  "kernelspec": {
   "display_name": "Python 3",
   "language": "python",
   "name": "python3"
  },
  "language_info": {
   "codemirror_mode": {
    "name": "ipython",
    "version": 3
   },
   "file_extension": ".py",
   "mimetype": "text/x-python",
   "name": "python",
   "nbconvert_exporter": "python",
   "pygments_lexer": "ipython3",
   "version": "3.8.5"
  }
 },
 "nbformat": 4,
 "nbformat_minor": 4
}
