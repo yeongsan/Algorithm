{
 "cells": [
  {
   "cell_type": "code",
   "execution_count": 14,
   "metadata": {},
   "outputs": [
    {
     "name": "stdout",
     "output_type": "stream",
     "text": [
      "head -> 1 -> 2 -> 3 -> 4\n",
      "head -> 1 -> 3 -> 4\n"
     ]
    }
   ],
   "source": [
    "class Node:\n",
    "    def __init__(self, element):\n",
    "        self.element = element\n",
    "        self.next = None\n",
    "\n",
    "\n",
    "class CircularLinkedList:\n",
    "    def __init__(self):\n",
    "        self.head = Node('head')\n",
    "        self.head.next = self.head\n",
    "\n",
    "    def insert(self, item, new):\n",
    "        new_node = Node(new)\n",
    "        cur_node = self.find(item)\n",
    "        new_node.next = cur_node.next\n",
    "        cur_node.next = new_node\n",
    "\n",
    "    def find(self, item):\n",
    "        cur_node = self.head\n",
    "        while cur_node.element != item:\n",
    "            cur_node = cur_node.next\n",
    "        return cur_node\n",
    "\n",
    "    def find_previous(self, item):\n",
    "        cur_node = self.head\n",
    "        while cur_node.next.element != item:\n",
    "            cur_node = cur_node.next\n",
    "        return cur_node\n",
    "\n",
    "    def remove(self, item):\n",
    "        prev_node = self.find_previous(item)\n",
    "        prev_node.next = prev_node.next.next\n",
    "\n",
    "    def show(self):\n",
    "        cur_node = self.head\n",
    "        while cur_node.next.element != 'head':\n",
    "            print(cur_node.element, end=' -> ')\n",
    "            cur_node = cur_node.next\n",
    "        print(cur_node.element)\n",
    "\n",
    "\n",
    "boo = CircularLinkedList()\n",
    "boo.insert('head', '1')\n",
    "boo.insert('1', '2')\n",
    "boo.insert('2', '3')\n",
    "boo.insert('3', '4')\n",
    "boo.show()\n",
    "boo.remove('2')\n",
    "boo.show()"
   ]
  }
 ],
 "metadata": {
  "kernelspec": {
   "display_name": "Python 3",
   "language": "python",
   "name": "python3"
  },
  "language_info": {
   "codemirror_mode": {
    "name": "ipython",
    "version": 3
   },
   "file_extension": ".py",
   "mimetype": "text/x-python",
   "name": "python",
   "nbconvert_exporter": "python",
   "pygments_lexer": "ipython3",
   "version": "3.8.5"
  }
 },
 "nbformat": 4,
 "nbformat_minor": 4
}
