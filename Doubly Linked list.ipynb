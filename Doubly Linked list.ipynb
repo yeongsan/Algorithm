{
 "cells": [
  {
   "cell_type": "code",
   "execution_count": 1,
   "metadata": {},
   "outputs": [
    {
     "name": "stdout",
     "output_type": "stream",
     "text": [
      "head -> 1 -> 2 -> 3 -> 4\n",
      "head -> 1 -> 2 -> 3\n",
      "3\n",
      "3 <- 2 <- 1 <- head\n"
     ]
    }
   ],
   "source": [
    "class Node:\n",
    "\tdef __init__(self, element):\n",
    "\t\tself.element = element\n",
    "\t\tself.next = None\n",
    "\t\tself.previous = None\n",
    "\n",
    "\n",
    "\n",
    "class DoublyLinkedList:\n",
    "\tdef __init__(self):\n",
    "\t\tself.head = Node('head')\n",
    "        \n",
    "\tdef find(self,item):\n",
    "\t\tcur_node = self.head\n",
    "\t\twhile cur_node.element != item:\n",
    "\t\t\tcur_node = cur_node.next\n",
    "\t\treturn cur_node\n",
    "    \n",
    "\tdef insert(self,item,new):\n",
    "\t\tnew_node = Node(new)\n",
    "\t\tcur_node = self.find(item)\n",
    "\t\tnew_node.next = cur_node.next\n",
    "\t\tcur_node.next = new_node\n",
    "\t\tnew_node.previous = cur_node\n",
    "        \n",
    "\tdef show(self):\n",
    "\t\tcur_node = self.head\n",
    "\t\twhile cur_node.next is not None:\n",
    "\t\t\tprint(cur_node.element, end=' -> ')\n",
    "\t\t\tcur_node = cur_node.next\n",
    "\t\tprint(cur_node.element)\n",
    "        \n",
    "\tdef remove(self, item):\n",
    "\t\tcur_node = self.find(item)\n",
    "\t\tcur_node.previous.next = cur_node.next\n",
    "\t\tcur_node.previous = None\n",
    "\t\tif cur_node.next is not None:\n",
    "\t\t\tcur_node.next.previous = cur_node.previous\n",
    "\t\t\tcur_node.next = None\n",
    "            \n",
    "\tdef find_last(self):\n",
    "\t\tcur_node = self.head\n",
    "\t\twhile cur_node.next is not None:\n",
    "\t\t\tcur_node = cur_node.next\n",
    "\t\treturn cur_node\n",
    "    \n",
    "\tdef show_reverse(self):\n",
    "\t\tcur_node = self.find_last()\n",
    "\t\twhile cur_node.previous is not None:\n",
    "\t\t\tprint(cur_node.element, end=' <- ')\n",
    "\t\t\tcur_node = cur_node.previous\n",
    "\t\tprint(cur_node.element)\n",
    "\n",
    "\t\t\n",
    "boo = DoublyLinkedList()\n",
    "boo.insert('head', '1')\n",
    "boo.insert('1', '2')\n",
    "boo.insert('2','3')\n",
    "boo.insert('3','4')\n",
    "boo.show()\n",
    "\n",
    "boo.remove('4')\n",
    "boo.show()\n",
    "\n",
    "print(boo.find_last().element)\n",
    "\n",
    "boo.show_reverse()\n"
   ]
  }
 ],
 "metadata": {
  "kernelspec": {
   "display_name": "Python 3",
   "language": "python",
   "name": "python3"
  },
  "language_info": {
   "codemirror_mode": {
    "name": "ipython",
    "version": 3
   },
   "file_extension": ".py",
   "mimetype": "text/x-python",
   "name": "python",
   "nbconvert_exporter": "python",
   "pygments_lexer": "ipython3",
   "version": "3.8.5"
  }
 },
 "nbformat": 4,
 "nbformat_minor": 4

}
