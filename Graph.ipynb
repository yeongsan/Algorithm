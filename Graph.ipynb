{
 "cells": [
  {
   "cell_type": "code",
   "execution_count": 7,
   "metadata": {},
   "outputs": [
    {
     "name": "stdout",
     "output_type": "stream",
     "text": [
      "['A', 'B', 'E', 'I', 'C', 'F', 'H', 'J', 'D', 'G']\n",
      "['A', 'B', 'C', 'D', 'E', 'F', 'G', 'H', 'I', 'J']\n",
      "['A', 'B', 'C', 'D', 'E', 'F', 'G', 'H', 'I', 'J']\n"
     ]
    }
   ],
   "source": [
    "class myGraph:\n",
    "    def __init__(self):\n",
    "        self.graph = {}\n",
    "\n",
    "    def addInfo(self, startV, endVs):\n",
    "        self.graph[startV] = endVs\n",
    "  \n",
    "    def addEdge(self, startV, endV):\n",
    "        self.graph[startV].append(endV)\n",
    "  \n",
    "    def addVertex(self, V):\n",
    "        self.graph[V] = []\n",
    "  \n",
    "    def bfs(self, startV):\n",
    "        q = [startV]\n",
    "        visited = [startV]\n",
    "        while q:\n",
    "          # 자료양이 커지면 deque.popleft()를 쓰는게 시간이 빠르다.\n",
    "            nowV = q.pop(0)\n",
    "            for nextV in self.graph[nowV]:\n",
    "                if nextV not in visited:\n",
    "                    q.append(nextV)\n",
    "                    visited.append(nextV)\n",
    "        return visited\n",
    "\n",
    "    def dfs(self, startV):\n",
    "        s = [startV]\n",
    "        visited = []\n",
    "        while s:\n",
    "            nowV = s.pop()\n",
    "            if nowV not in visited:\n",
    "                visited.append(nowV)\n",
    "                s.extend(self.graph[nowV][::-1])\n",
    "        return visited\n",
    "\n",
    "    def dfs_recursive(self, startV, visited=[]):\n",
    "        visited.append(startV) \n",
    "\n",
    "        for nextV in self.graph[startV]:\n",
    "            if nextV not in visited:\n",
    "                self.dfs_recursive(nextV, visited)\n",
    "\n",
    "        return visited\n",
    "\n",
    "g = myGraph()\n",
    "g.addInfo( 'A', ['B',  'E',  'I'])\n",
    "g.addInfo( 'B', ['A',  'C'])\n",
    "g.addInfo( 'C', ['B',  'D'])\n",
    "g.addInfo( 'D', ['C'])\n",
    "g.addInfo( 'E', ['A',  'F',  'H'])\n",
    "g.addInfo( 'F', ['E',  'G'])\n",
    "g.addInfo( 'G', ['F'])\n",
    "g.addInfo( 'H', ['E'])\n",
    "g.addInfo( 'I', ['A',  'J'])\n",
    "g.addInfo( 'J', ['I'])\n",
    "\n",
    "print(g.bfs('A'))\n",
    "print(g.dfs('A'))\n",
    "print(g.dfs_recursive('A'))"
   ]
  }
 ],
 "metadata": {
  "kernelspec": {
   "display_name": "Python 3",
   "language": "python",
   "name": "python3"
  },
  "language_info": {
   "codemirror_mode": {
    "name": "ipython",
    "version": 3
   },
   "file_extension": ".py",
   "mimetype": "text/x-python",
   "name": "python",
   "nbconvert_exporter": "python",
   "pygments_lexer": "ipython3",
   "version": "3.8.5"
  }
 },
 "nbformat": 4,
 "nbformat_minor": 4
}
