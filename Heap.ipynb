{
 "cells": [
  {
   "cell_type": "code",
   "execution_count": 7,
   "metadata": {},
   "outputs": [
    {
     "name": "stdout",
     "output_type": "stream",
     "text": [
      "[10, 30, 20, 50]\n",
      "10\n",
      "[20, 30, 50]\n"
     ]
    }
   ],
   "source": [
    "import heapq\n",
    "heap = []\n",
    "heapq.heappush(heap, 50)\n",
    "heapq.heappush(heap, 10)\n",
    "heapq.heappush(heap, 20)\n",
    "heapq.heappush(heap, 30)\n",
    "print(heap)           # [10, 30, 20, 50]\n",
    "\n",
    "\n",
    "result = heapq.heappop(heap) # 가장 작은 원수를 힙에서 제거\n",
    "print(result)  # 10\n",
    "print(heap)    # [20 30 50]\n",
    "tmp = [7, 5, 8, 3]"
   ]
  },
  {
   "cell_type": "code",
   "execution_count": 8,
   "metadata": {},
   "outputs": [
    {
     "name": "stdout",
     "output_type": "stream",
     "text": [
      "[(-24, 24), (-22, 22), (-12, 12), (-17, 17), (-19, 19), (-5, 5), (-4, 4), (-9, 9), (-7, 7), (-10, 10)]\n",
      "24\n"
     ]
    }
   ],
   "source": [
    "######## 최대힙 만들기 ########\n",
    "heap_items = [24, 19, 12, 17, 10, 5, 4, 9, 7,22]\n",
    "max_heap = []\n",
    "for item in heap_items:\n",
    "    heapq.heappush(max_heap, (-item, item))\n",
    "print(max_heap)   # [(-24, 24), (-22, 22), (-12, 12), (-17, 17), (-19, 19), (-5, 5), (-4, 4), (-9, 9), (-7, 7), (-10,10)]\n",
    "max_result = heapq.heappop(max_heap)[1]\n",
    "print(max_result)  # 24"
   ]
  },
  {
   "cell_type": "code",
   "execution_count": null,
   "metadata": {},
   "outputs": [],
   "source": []
  }
 ],
 "metadata": {
  "kernelspec": {
   "display_name": "Python 3",
   "language": "python",
   "name": "python3"
  },
  "language_info": {
   "codemirror_mode": {
    "name": "ipython",
    "version": 3
   },
   "file_extension": ".py",
   "mimetype": "text/x-python",
   "name": "python",
   "nbconvert_exporter": "python",
   "pygments_lexer": "ipython3",
   "version": "3.8.5"
  }
 },
 "nbformat": 4,
 "nbformat_minor": 4
}
