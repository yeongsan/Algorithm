{
 "cells": [
  {
   "cell_type": "markdown",
   "metadata": {},
   "source": [
    "# 1) Que"
   ]
  },
  {
   "cell_type": "markdown",
   "metadata": {},
   "source": [
    "# 1. 직접구현"
   ]
  },
  {
   "cell_type": "code",
   "execution_count": 1,
   "metadata": {},
   "outputs": [],
   "source": [
    "class Queue(list):\n",
    "    # put\n",
    "    put = list.append\n",
    "    \n",
    "    # peek\n",
    "    def peek(self):\n",
    "        return self[0]\n",
    "    \n",
    "    # get\n",
    "    def get(self):\n",
    "        return self.pop(0)"
   ]
  },
  {
   "cell_type": "markdown",
   "metadata": {},
   "source": [
    "# 2. 이미 구현된 클래스 import"
   ]
  },
  {
   "cell_type": "code",
   "execution_count": 4,
   "metadata": {},
   "outputs": [
    {
     "name": "stdout",
     "output_type": "stream",
     "text": [
      "<queue.Queue object at 0x000001EAA591C520>\n",
      "1\n",
      "<queue.Queue object at 0x000001EAA591C520>\n",
      "2\n",
      "<queue.Queue object at 0x000001EAA591C520>\n"
     ]
    }
   ],
   "source": [
    "from queue import Queue\n",
    "\n",
    "q = Queue()\n",
    "\n",
    "# put\n",
    "q.put(1)\n",
    "q.put(2)\n",
    "q.put(3)\n",
    "print(q)  # [1,2,3]\n",
    "\n",
    "# get\n",
    "print(q.get()) # 1\n",
    "print(q)   # [2,3]\n",
    "\n",
    "# peek\n",
    "print(q.get())  # 2\n",
    "print(q)   # [2,3]"
   ]
  },
  {
   "cell_type": "markdown",
   "metadata": {},
   "source": [
    "# 3. List를 큐로 활용\n"
   ]
  },
  {
   "cell_type": "code",
   "execution_count": null,
   "metadata": {},
   "outputs": [],
   "source": [
    "q = []\n",
    "\n",
    "# put\n",
    "q.append(1)\n",
    "q.append(2)\n",
    "q.append(3)\n",
    "print(q)    # [1,2,3]\n",
    "\n",
    "# get\n",
    "print(q.pop(0))   # 1\n",
    "print(q)   # [2,3]\n",
    "\n",
    "# peek\n",
    "print(q[0])\n",
    "print(q)"
   ]
  },
  {
   "cell_type": "markdown",
   "metadata": {},
   "source": [
    "# 2) Deque\n",
    "# 1. 파이썬 모듈 import"
   ]
  },
  {
   "cell_type": "code",
   "execution_count": 8,
   "metadata": {},
   "outputs": [
    {
     "name": "stdout",
     "output_type": "stream",
     "text": [
      "deque([1, 2, 3])\n",
      "deque([5, 4, 1, 2, 3])\n",
      "3\n",
      "deque([5, 4, 1, 2])\n",
      "5\n",
      "deque([4, 1, 2])\n"
     ]
    }
   ],
   "source": [
    "from collections import deque\n",
    "\n",
    "d = deque()\n",
    "\n",
    "d.append(1)\n",
    "d.append(2)\n",
    "d.append(3)\n",
    "print(d)\n",
    "\n",
    "d.appendleft(4)\n",
    "d.appendleft(5)\n",
    "print(d)  # [5,4,1,2,3]\n",
    "\n",
    "print(d.pop())  # 3\n",
    "print(d)    # [5,4,1,2]\n",
    "\n",
    "print(d.popleft()) # 5\n",
    "print(d)  # [4,1,2]\n"
   ]
  },
  {
   "cell_type": "markdown",
   "metadata": {},
   "source": [
    "# 2. Deque 활용 문제\n",
    "## 1. 리스트를 n만큼 회전시키기\n",
    "a = [1,2,3,4,5] 일 때, 이 리스트를 2만큼 오른쪽으로 회전시켜 [4,5,1,2,3] 으로 만들기"
   ]
  },
  {
   "cell_type": "code",
   "execution_count": 9,
   "metadata": {},
   "outputs": [
    {
     "name": "stdout",
     "output_type": "stream",
     "text": [
      "[4, 5, 1, 2, 3]\n"
     ]
    }
   ],
   "source": [
    "from collections import deque\n",
    "\n",
    "a = [1,2,3,4,5]\n",
    "q = deque(a)\n",
    "q.rotate(2)\n",
    "result = list(q)\n",
    "print(result)"
   ]
  },
  {
   "cell_type": "code",
   "execution_count": null,
   "metadata": {},
   "outputs": [],
   "source": []
  }
 ],
 "metadata": {
  "kernelspec": {
   "display_name": "Python 3",
   "language": "python",
   "name": "python3"
  },
  "language_info": {
   "codemirror_mode": {
    "name": "ipython",
    "version": 3
   },
   "file_extension": ".py",
   "mimetype": "text/x-python",
   "name": "python",
   "nbconvert_exporter": "python",
   "pygments_lexer": "ipython3",
   "version": "3.8.5"
  }
 },
 "nbformat": 4,
 "nbformat_minor": 4
}
