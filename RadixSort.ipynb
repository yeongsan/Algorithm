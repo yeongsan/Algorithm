{
 "cells": [
  {
   "cell_type": "code",
   "execution_count": 1,
   "metadata": {},
   "outputs": [
    {
     "name": "stdout",
     "output_type": "stream",
     "text": [
      "[1, 2, 3, 5, 6, 7, 8, 9]\n"
     ]
    }
   ],
   "source": [
    "def radix(order) :\n",
    "\tis_sorted = False\n",
    "\tposition = 1\n",
    "\n",
    "\twhile not is_sorted :\n",
    "\t\tis_sorted = True\n",
    "\t\tqueue_list = [list() for _ in range(10)]\n",
    "\n",
    "\t\tfor num in order :\n",
    "\t\t\tdigit_number = (int) (num/position) % 10\n",
    "\t\t\tqueue_list[digit_number].append(num)\n",
    "\t\t\tif is_sorted and digit_number >0 :\n",
    "\t\t\t\tis_sorted = False\n",
    "\t\tindex=0\n",
    "\n",
    "\t\tfor numbers in queue_list :\n",
    "\t\t\tfor num in numbers:\n",
    "\t\t\t\torder[index] =num\n",
    "\t\t\t\tindex += 1\n",
    "\t\tposition *=10\n",
    "\n",
    "x = [5,2,8,6,1,9,3,7]\n",
    "radix(x)\n",
    "print(x) # 결과는 1,2,3,5,6,7,8,9로 나오게 된다."
   ]
  },
  {
   "cell_type": "code",
   "execution_count": null,
   "metadata": {},
   "outputs": [],
   "source": []
  }
 ],
 "metadata": {
  "kernelspec": {
   "display_name": "Python 3",
   "language": "python",
   "name": "python3"
  },
  "language_info": {
   "codemirror_mode": {
    "name": "ipython",
    "version": 3
   },
   "file_extension": ".py",
   "mimetype": "text/x-python",
   "name": "python",
   "nbconvert_exporter": "python",
   "pygments_lexer": "ipython3",
   "version": "3.8.5"
  }
 },
 "nbformat": 4,
 "nbformat_minor": 4
}
