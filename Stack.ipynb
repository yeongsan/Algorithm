{
 "cells": [
  {
   "cell_type": "code",
   "execution_count": 22,
   "metadata": {},
   "outputs": [],
   "source": [
    "class Stack():\n",
    "    def __init__(self): \n",
    "        self.stack = [] \n",
    "    \n",
    "    def push(self, data): \n",
    "        self.stack.append(data) \n",
    "    \n",
    "    def pop(self): \n",
    "        pop_object = None \n",
    "        if self.isEmpty(): \n",
    "            print(\"Stack is Empty\") \n",
    "        else: \n",
    "            pop_object = self.stack.pop() \n",
    "        return pop_object \n",
    "                \n",
    "    def top(self): \n",
    "        top_object = None \n",
    "        if self.isEmpty(): \n",
    "            print(\"Stack is Empty\") \n",
    "        else: \n",
    "            top_object = self.stack[-1] \n",
    "        \n",
    "        return top_object \n",
    "    \n",
    "    def __len__(self): # len()로 호출하면 stack의 item 수 반환\n",
    "        return len(self.stack)\n",
    "    \n",
    "    def isEmpty(self): \n",
    "        is_empty = False \n",
    "        if len(self.stack) == 0: \n",
    "            is_empty = True \n",
    "            return is_empty\n",
    "\n"
   ]
  },
  {
   "cell_type": "code",
   "execution_count": null,
   "metadata": {},
   "outputs": [],
   "source": []
  }
 ],
 "metadata": {
  "kernelspec": {
   "display_name": "Python 3",
   "language": "python",
   "name": "python3"
  },
  "language_info": {
   "codemirror_mode": {
    "name": "ipython",
    "version": 3
   },
   "file_extension": ".py",
   "mimetype": "text/x-python",
   "name": "python",
   "nbconvert_exporter": "python",
   "pygments_lexer": "ipython3",
   "version": "3.8.5"
  }
 },
 "nbformat": 4,
 "nbformat_minor": 4
}
